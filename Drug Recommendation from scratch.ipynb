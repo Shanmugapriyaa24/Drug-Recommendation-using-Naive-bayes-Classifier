{
 "cells": [
  {
   "cell_type": "code",
   "execution_count": 2,
   "id": "12d3b9a2",
   "metadata": {},
   "outputs": [],
   "source": [
    "from collections import defaultdict\n",
    "import math\n",
    "from nltk.corpus import stopwords\n",
    "from nltk.stem import WordNetLemmatizer\n",
    "from nltk.tokenize import RegexpTokenizer\n",
    "import pandas as pd"
   ]
  },
  {
   "cell_type": "code",
   "execution_count": 2,
   "id": "003e1fe1",
   "metadata": {},
   "outputs": [
    {
     "data": {
      "text/html": [
       "<div>\n",
       "<style scoped>\n",
       "    .dataframe tbody tr th:only-of-type {\n",
       "        vertical-align: middle;\n",
       "    }\n",
       "\n",
       "    .dataframe tbody tr th {\n",
       "        vertical-align: top;\n",
       "    }\n",
       "\n",
       "    .dataframe thead th {\n",
       "        text-align: right;\n",
       "    }\n",
       "</style>\n",
       "<table border=\"1\" class=\"dataframe\">\n",
       "  <thead>\n",
       "    <tr style=\"text-align: right;\">\n",
       "      <th></th>\n",
       "      <th>uniqueID</th>\n",
       "      <th>drugName</th>\n",
       "      <th>condition</th>\n",
       "      <th>review</th>\n",
       "      <th>rating</th>\n",
       "      <th>date</th>\n",
       "      <th>usefulCount</th>\n",
       "    </tr>\n",
       "  </thead>\n",
       "  <tbody>\n",
       "    <tr>\n",
       "      <th>0</th>\n",
       "      <td>163740</td>\n",
       "      <td>Mirtazapine</td>\n",
       "      <td>Depression</td>\n",
       "      <td>\"I&amp;#039;ve tried a few antidepressants over th...</td>\n",
       "      <td>10</td>\n",
       "      <td>28-Feb-12</td>\n",
       "      <td>22</td>\n",
       "    </tr>\n",
       "    <tr>\n",
       "      <th>1</th>\n",
       "      <td>206473</td>\n",
       "      <td>Mesalamine</td>\n",
       "      <td>Crohn's Disease, Maintenance</td>\n",
       "      <td>\"My son has Crohn&amp;#039;s disease and has done ...</td>\n",
       "      <td>8</td>\n",
       "      <td>17-May-09</td>\n",
       "      <td>17</td>\n",
       "    </tr>\n",
       "    <tr>\n",
       "      <th>2</th>\n",
       "      <td>159672</td>\n",
       "      <td>Bactrim</td>\n",
       "      <td>Urinary Tract Infection</td>\n",
       "      <td>\"Quick reduction of symptoms\"</td>\n",
       "      <td>9</td>\n",
       "      <td>29-Sep-17</td>\n",
       "      <td>3</td>\n",
       "    </tr>\n",
       "    <tr>\n",
       "      <th>3</th>\n",
       "      <td>39293</td>\n",
       "      <td>Contrave</td>\n",
       "      <td>Weight Loss</td>\n",
       "      <td>\"Contrave combines drugs that were used for al...</td>\n",
       "      <td>9</td>\n",
       "      <td>5-Mar-17</td>\n",
       "      <td>35</td>\n",
       "    </tr>\n",
       "    <tr>\n",
       "      <th>4</th>\n",
       "      <td>97768</td>\n",
       "      <td>Cyclafem 1 / 35</td>\n",
       "      <td>Birth Control</td>\n",
       "      <td>\"I have been on this birth control for one cyc...</td>\n",
       "      <td>9</td>\n",
       "      <td>22-Oct-15</td>\n",
       "      <td>4</td>\n",
       "    </tr>\n",
       "  </tbody>\n",
       "</table>\n",
       "</div>"
      ],
      "text/plain": [
       "   uniqueID         drugName                     condition  \\\n",
       "0    163740      Mirtazapine                    Depression   \n",
       "1    206473       Mesalamine  Crohn's Disease, Maintenance   \n",
       "2    159672          Bactrim       Urinary Tract Infection   \n",
       "3     39293         Contrave                   Weight Loss   \n",
       "4     97768  Cyclafem 1 / 35                 Birth Control   \n",
       "\n",
       "                                              review  rating       date  \\\n",
       "0  \"I&#039;ve tried a few antidepressants over th...      10  28-Feb-12   \n",
       "1  \"My son has Crohn&#039;s disease and has done ...       8  17-May-09   \n",
       "2                      \"Quick reduction of symptoms\"       9  29-Sep-17   \n",
       "3  \"Contrave combines drugs that were used for al...       9   5-Mar-17   \n",
       "4  \"I have been on this birth control for one cyc...       9  22-Oct-15   \n",
       "\n",
       "   usefulCount  \n",
       "0           22  \n",
       "1           17  \n",
       "2            3  \n",
       "3           35  \n",
       "4            4  "
      ]
     },
     "execution_count": 2,
     "metadata": {},
     "output_type": "execute_result"
    }
   ],
   "source": [
    "df = pd.read_csv(\"C:\\\\Users\\\\SHANMUGAPRIYAA\\\\OneDrive\\\\Documents\\\\drugsComTest_raw.csv\")\n",
    "df.head()"
   ]
  },
  {
   "cell_type": "code",
   "execution_count": 3,
   "id": "9e117569",
   "metadata": {},
   "outputs": [],
   "source": [
    "df['sentiment'] = df['rating'].apply(lambda x: 1 if x >= 6 else 0)"
   ]
  },
  {
   "cell_type": "code",
   "execution_count": 4,
   "id": "87a6e898",
   "metadata": {},
   "outputs": [
    {
     "data": {
      "text/html": [
       "<div>\n",
       "<style scoped>\n",
       "    .dataframe tbody tr th:only-of-type {\n",
       "        vertical-align: middle;\n",
       "    }\n",
       "\n",
       "    .dataframe tbody tr th {\n",
       "        vertical-align: top;\n",
       "    }\n",
       "\n",
       "    .dataframe thead th {\n",
       "        text-align: right;\n",
       "    }\n",
       "</style>\n",
       "<table border=\"1\" class=\"dataframe\">\n",
       "  <thead>\n",
       "    <tr style=\"text-align: right;\">\n",
       "      <th></th>\n",
       "      <th>uniqueID</th>\n",
       "      <th>drugName</th>\n",
       "      <th>condition</th>\n",
       "      <th>review</th>\n",
       "      <th>rating</th>\n",
       "      <th>date</th>\n",
       "      <th>usefulCount</th>\n",
       "      <th>sentiment</th>\n",
       "    </tr>\n",
       "  </thead>\n",
       "  <tbody>\n",
       "    <tr>\n",
       "      <th>0</th>\n",
       "      <td>163740</td>\n",
       "      <td>Mirtazapine</td>\n",
       "      <td>Depression</td>\n",
       "      <td>\"I&amp;#039;ve tried a few antidepressants over th...</td>\n",
       "      <td>10</td>\n",
       "      <td>28-Feb-12</td>\n",
       "      <td>22</td>\n",
       "      <td>1</td>\n",
       "    </tr>\n",
       "    <tr>\n",
       "      <th>1</th>\n",
       "      <td>206473</td>\n",
       "      <td>Mesalamine</td>\n",
       "      <td>Crohn's Disease, Maintenance</td>\n",
       "      <td>\"My son has Crohn&amp;#039;s disease and has done ...</td>\n",
       "      <td>8</td>\n",
       "      <td>17-May-09</td>\n",
       "      <td>17</td>\n",
       "      <td>1</td>\n",
       "    </tr>\n",
       "    <tr>\n",
       "      <th>2</th>\n",
       "      <td>159672</td>\n",
       "      <td>Bactrim</td>\n",
       "      <td>Urinary Tract Infection</td>\n",
       "      <td>\"Quick reduction of symptoms\"</td>\n",
       "      <td>9</td>\n",
       "      <td>29-Sep-17</td>\n",
       "      <td>3</td>\n",
       "      <td>1</td>\n",
       "    </tr>\n",
       "    <tr>\n",
       "      <th>3</th>\n",
       "      <td>39293</td>\n",
       "      <td>Contrave</td>\n",
       "      <td>Weight Loss</td>\n",
       "      <td>\"Contrave combines drugs that were used for al...</td>\n",
       "      <td>9</td>\n",
       "      <td>5-Mar-17</td>\n",
       "      <td>35</td>\n",
       "      <td>1</td>\n",
       "    </tr>\n",
       "    <tr>\n",
       "      <th>4</th>\n",
       "      <td>97768</td>\n",
       "      <td>Cyclafem 1 / 35</td>\n",
       "      <td>Birth Control</td>\n",
       "      <td>\"I have been on this birth control for one cyc...</td>\n",
       "      <td>9</td>\n",
       "      <td>22-Oct-15</td>\n",
       "      <td>4</td>\n",
       "      <td>1</td>\n",
       "    </tr>\n",
       "  </tbody>\n",
       "</table>\n",
       "</div>"
      ],
      "text/plain": [
       "   uniqueID         drugName                     condition  \\\n",
       "0    163740      Mirtazapine                    Depression   \n",
       "1    206473       Mesalamine  Crohn's Disease, Maintenance   \n",
       "2    159672          Bactrim       Urinary Tract Infection   \n",
       "3     39293         Contrave                   Weight Loss   \n",
       "4     97768  Cyclafem 1 / 35                 Birth Control   \n",
       "\n",
       "                                              review  rating       date  \\\n",
       "0  \"I&#039;ve tried a few antidepressants over th...      10  28-Feb-12   \n",
       "1  \"My son has Crohn&#039;s disease and has done ...       8  17-May-09   \n",
       "2                      \"Quick reduction of symptoms\"       9  29-Sep-17   \n",
       "3  \"Contrave combines drugs that were used for al...       9   5-Mar-17   \n",
       "4  \"I have been on this birth control for one cyc...       9  22-Oct-15   \n",
       "\n",
       "   usefulCount  sentiment  \n",
       "0           22          1  \n",
       "1           17          1  \n",
       "2            3          1  \n",
       "3           35          1  \n",
       "4            4          1  "
      ]
     },
     "execution_count": 4,
     "metadata": {},
     "output_type": "execute_result"
    }
   ],
   "source": [
    "df.head()"
   ]
  },
  {
   "cell_type": "code",
   "execution_count": 5,
   "id": "85df7807",
   "metadata": {},
   "outputs": [
    {
     "name": "stdout",
     "output_type": "stream",
     "text": [
      "1    41928\n",
      "0    11838\n",
      "Name: sentiment, dtype: int64\n"
     ]
    }
   ],
   "source": [
    "sentiment_counts = df['sentiment'].value_counts()\n",
    "print(sentiment_counts)\n"
   ]
  },
  {
   "cell_type": "code",
   "execution_count": 6,
   "id": "8ce38ae5",
   "metadata": {},
   "outputs": [
    {
     "data": {
      "image/png": "[encoded data removed]",
      "text/plain": [
       "<Figure size 400x300 with 1 Axes>"
      ]
     },
     "metadata": {},
     "output_type": "display_data"
    }
   ],
   "source": [
    "import matplotlib.pyplot as plt\n",
    "plt.figure(figsize=(4, 3))\n",
    "colors = ['green', 'red', 'blue'] \n",
    "plt.bar(sentiment_counts.index, sentiment_counts.values, color=colors)\n",
    "plt.xlabel('Sentiment')\n",
    "plt.ylabel('Count')\n",
    "plt.title('Sentiment Distribution')\n",
    "plt.show()\n"
   ]
  },
  {
   "cell_type": "markdown",
   "id": "268c0d3a",
   "metadata": {},
   "source": [
    "# Bernoullis naive bayes classifier"
   ]
  },
  {
   "cell_type": "code",
   "execution_count": 7,
   "id": "ffd54517",
   "metadata": {},
   "outputs": [],
   "source": [
    "from sklearn.model_selection import train_test_split\n",
    "# Split the dataset into training and testing sets\n",
    "X_train, X_test, y_train, y_test = train_test_split(df['review'], df['sentiment'], test_size=0.2, random_state=42)"
   ]
  },
  {
   "cell_type": "code",
   "execution_count": 8,
   "id": "1f147c71",
   "metadata": {},
   "outputs": [],
   "source": [
    "# Create the vocabulary\n",
    "vocabulary = set()\n",
    "for review in X_train:\n",
    "    vocabulary.update(set(review.split()))"
   ]
  },
  {
   "cell_type": "code",
   "execution_count": 9,
   "id": "5e385e7f",
   "metadata": {},
   "outputs": [],
   "source": [
    "# Convert sentiment labels to numeric values\n",
    "y_train_numeric = y_train.replace({'positive': 1, 'negative': 0})\n"
   ]
  },
  {
   "cell_type": "code",
   "execution_count": 10,
   "id": "93ea8a2b",
   "metadata": {},
   "outputs": [],
   "source": [
    "# Calculate the prior probabilities\n",
    "prior_positive = y_train_numeric.mean()\n",
    "prior_negative = 1 - prior_positive"
   ]
  },
  {
   "cell_type": "code",
   "execution_count": 11,
   "id": "740fd36b",
   "metadata": {},
   "outputs": [],
   "source": [
    "# Initialize the count dictionaries\n",
    "positive_counts = {word: 0 for word in vocabulary}\n",
    "negative_counts = {word: 0 for word in vocabulary}"
   ]
  },
  {
   "cell_type": "code",
   "execution_count": 12,
   "id": "c7706924",
   "metadata": {},
   "outputs": [],
   "source": [
    "# Count the occurrences of words in positive and negative reviews\n",
    "for review, sentiment in zip(X_train, y_train):\n",
    "    words = set(review.split())\n",
    "    if sentiment == 1:\n",
    "        for word in words:\n",
    "            positive_counts[word] += 1\n",
    "    else:\n",
    "        for word in words:\n",
    "            negative_counts[word] += 1"
   ]
  },
  {
   "cell_type": "code",
   "execution_count": 13,
   "id": "4d2ebb32",
   "metadata": {},
   "outputs": [],
   "source": [
    "# Calculate the likelihood probabilities\n",
    "likelihood_positive = {}\n",
    "likelihood_negative = {}\n",
    "smoothing = 1e-6\n",
    "for word in vocabulary:\n",
    "    likelihood_positive[word] = (positive_counts[word] + smoothing) / (y_train.sum() + 2 * smoothing)\n",
    "    likelihood_negative[word] = (negative_counts[word] + smoothing) / ((y_train.size - y_train.sum()) + 2 * smoothing)"
   ]
  },
  {
   "cell_type": "code",
   "execution_count": 14,
   "id": "4989d071",
   "metadata": {},
   "outputs": [],
   "source": [
    "import numpy as np\n",
    "# Predict the sentiments of test reviews\n",
    "y_pred = []\n",
    "for review in X_test:\n",
    "    words = set(review.split())\n",
    "    log_prob_positive = np.log(prior_positive)\n",
    "    log_prob_negative = np.log(prior_negative)\n",
    "    \n",
    "    for word in words:\n",
    "        if word in vocabulary:\n",
    "            log_prob_positive += np.log(likelihood_positive[word])\n",
    "            log_prob_negative += np.log(likelihood_negative[word])\n",
    "    \n",
    "    if log_prob_positive > log_prob_negative:\n",
    "        y_pred.append(1)\n",
    "    else:\n",
    "        y_pred.append(0)"
   ]
  },
  {
   "cell_type": "code",
   "execution_count": 15,
   "id": "a394667f",
   "metadata": {},
   "outputs": [
    {
     "name": "stdout",
     "output_type": "stream",
     "text": [
      "Accuracy: 0.8337362841733309\n"
     ]
    }
   ],
   "source": [
    "# Calculate accuracy\n",
    "accuracy = (y_pred == y_test).mean()\n",
    "print(\"Accuracy:\", accuracy)"
   ]
  },
  {
   "cell_type": "code",
   "execution_count": 16,
   "id": "768315bc",
   "metadata": {},
   "outputs": [],
   "source": [
    "import seaborn as sns\n",
    "import matplotlib.pyplot as plt\n",
    "from sklearn.model_selection import train_test_split\n",
    "from sklearn.metrics import confusion_matrix"
   ]
  },
  {
   "cell_type": "code",
   "execution_count": 17,
   "id": "511ccf1d",
   "metadata": {},
   "outputs": [
    {
     "name": "stdout",
     "output_type": "stream",
     "text": [
      "Classification Report:\n",
      "              precision    recall  f1-score   support\n",
      "\n",
      "           0       0.73      0.38      0.50      2345\n",
      "           1       0.85      0.96      0.90      8409\n",
      "\n",
      "    accuracy                           0.83     10754\n",
      "   macro avg       0.79      0.67      0.70     10754\n",
      "weighted avg       0.82      0.83      0.81     10754\n",
      "\n"
     ]
    }
   ],
   "source": [
    "from sklearn.metrics import classification_report\n",
    "# Print the classification report\n",
    "classification_report = classification_report(y_test, y_pred)\n",
    "print(\"Classification Report:\")\n",
    "print(classification_report)"
   ]
  },
  {
   "cell_type": "code",
   "execution_count": 18,
   "id": "b6c73ed3",
   "metadata": {},
   "outputs": [
    {
     "data": {
      "image/png": "[encoded data removed]",
      "text/plain": [
       "<Figure size 500x300 with 2 Axes>"
      ]
     },
     "metadata": {},
     "output_type": "display_data"
    }
   ],
   "source": [
    "from sklearn.metrics import confusion_matrix\n",
    "cm = confusion_matrix(y_test, y_pred)\n",
    "labels = np.unique(y_test)\n",
    "plt.figure(figsize=(5, 3))\n",
    "sns.heatmap(cm, annot=True, fmt='d', xticklabels=labels, yticklabels=labels)\n",
    "plt.title('Confusion Matrix')\n",
    "plt.xlabel('Predicted Label')\n",
    "plt.ylabel('True Label')\n",
    "plt.show()"
   ]
  },
  {
   "cell_type": "markdown",
   "id": "df03d629",
   "metadata": {},
   "source": [
    "# Gaussian naive bayes classifier"
   ]
  },
  {
   "cell_type": "code",
   "execution_count": 19,
   "id": "95baa8b9",
   "metadata": {},
   "outputs": [],
   "source": [
    "import numpy as np\n",
    "import pandas as pd\n",
    "from sklearn.model_selection import train_test_split\n",
    "from sklearn.feature_extraction.text import CountVectorizer"
   ]
  },
  {
   "cell_type": "code",
   "execution_count": 20,
   "id": "b6d2d30c",
   "metadata": {},
   "outputs": [],
   "source": [
    "class GaussianNaiveBayes:\n",
    "    def __init__(self):\n",
    "        self.class_priors = {}\n",
    "        self.mean = {}\n",
    "        self.variance = {}\n",
    "\n",
    "    def fit(self, X, y):\n",
    "        self.classes = np.unique(y)\n",
    "        self.class_counts = {}\n",
    "        self.mean = {}\n",
    "        self.variance = {}\n",
    "\n",
    "        for c in self.classes:\n",
    "            X_c = X[y == c]\n",
    "            self.class_counts[c] = len(X_c)\n",
    "            self.class_priors[c] = len(X_c) / len(X)\n",
    "            self.mean[c] = np.mean(X_c, axis=0)\n",
    "            self.variance[c] = np.var(X_c, axis=0)\n",
    "\n",
    "    def _calculate_likelihood(self, x, mean, variance):\n",
    "        exponent = np.exp(-((x - mean) ** 2) / (2 * variance))\n",
    "        return (1 / np.sqrt(2 * np.pi * variance)) * exponent\n",
    "\n",
    "    def predict(self, X):\n",
    "        y_pred = []\n",
    "\n",
    "        for x in X:\n",
    "            class_scores = []\n",
    "\n",
    "            for c in self.classes:\n",
    "                class_prior = self.class_priors[c]\n",
    "                class_mean = self.mean[c]\n",
    "                class_variance = self.variance[c]\n",
    "\n",
    "                likelihoods = self._calculate_likelihood(x, class_mean, class_variance)\n",
    "                class_score = np.prod(likelihoods) * class_prior\n",
    "                class_scores.append(class_score)\n",
    "\n",
    "            predicted_class = self.classes[np.argmax(class_scores)]\n",
    "            y_pred.append(predicted_class)\n",
    "\n",
    "        return y_pred"
   ]
  },
  {
   "cell_type": "code",
   "execution_count": 21,
   "id": "9f96ca2f",
   "metadata": {},
   "outputs": [],
   "source": [
    "# Preprocess the data\n",
    "df['sentiment'] = df['rating'].apply(lambda x: 'positive' if x >= 6 else 'negative')"
   ]
  },
  {
   "cell_type": "code",
   "execution_count": 22,
   "id": "0bb5fbe6",
   "metadata": {},
   "outputs": [],
   "source": [
    "# Split the dataset into training and testing sets\n",
    "X = df['review'].values\n",
    "y = df['sentiment'].values\n",
    "X_train, X_test, y_train, y_test = train_test_split(X, y, test_size=0.2, random_state=42)"
   ]
  },
  {
   "cell_type": "code",
   "execution_count": 23,
   "id": "57604d7d",
   "metadata": {},
   "outputs": [],
   "source": [
    "# Create a CountVectorizer to convert text into numerical features\n",
    "vectorizer = CountVectorizer()\n",
    "X_train_counts = vectorizer.fit_transform(X_train)\n",
    "X_test_counts = vectorizer.transform(X_test)"
   ]
  },
  {
   "cell_type": "code",
   "execution_count": 24,
   "id": "8655854e",
   "metadata": {},
   "outputs": [],
   "source": [
    "# Initialize and fit the Gaussian Naive Bayes classifier\n",
    "nb_classifier = GaussianNaiveBayes()\n",
    "nb_classifier.fit(X_train_counts.toarray(), y_train)"
   ]
  },
  {
   "cell_type": "code",
   "execution_count": 46,
   "id": "2f3a7062",
   "metadata": {},
   "outputs": [
    {
     "name": "stdout",
     "output_type": "stream",
     "text": [
      "Zero values found in X_test_counts at indices: (array([    0,     0,     0, ..., 10753, 10753, 10753], dtype=int64), array([    0,     1,     2, ..., 30820, 30821, 30822], dtype=int64))\n"
     ]
    },
    {
     "name": "stderr",
     "output_type": "stream",
     "text": [
      "C:\\Users\\SHANMUGAPRIYAA\\AppData\\Local\\Temp\\ipykernel_3192\\1662533359.py:26: RuntimeWarning: divide by zero encountered in log\n",
      "  class_score = np.log(class_prior) + likelihood\n"
     ]
    }
   ],
   "source": [
    "zero_indices = np.where(X_test_counts.toarray() == 0)\n",
    "if zero_indices:\n",
    "    print(\"Zero values found in X_test_counts at indices:\", zero_indices)\n",
    "X_test_counts_nonzero = X_test_counts.toarray()\n",
    "X_test_counts_nonzero[X_test_counts_nonzero == 0] = 1e-10\n",
    "y_pred = []\n",
    "for x in X_test_counts_nonzero:\n",
    "    probabilities = []\n",
    "    for c in nb_classifier.classes:\n",
    "        class_prior = nb_classifier.class_priors.get(c, 0)  # Use 0 as default prior for missing classes\n",
    "        if c in nb_classifier.feature_probabilities:\n",
    "            likelihood = np.sum(x * np.log(nb_classifier.feature_probabilities[c]))\n",
    "        else:\n",
    "            likelihood = 0  \n",
    "        class_score = np.log(class_prior) + likelihood\n",
    "        probabilities.append(class_score)\n",
    "    predicted_class = nb_classifier.classes[np.argmax(probabilities)]\n",
    "    y_pred.append(predicted_class)\n",
    "y_pred = np.array(y_pred)"
   ]
  },
  {
   "cell_type": "code",
   "execution_count": 47,
   "id": "37565d84",
   "metadata": {},
   "outputs": [
    {
     "name": "stdout",
     "output_type": "stream",
     "text": [
      "Accuracy: 0.30249209596429233\n"
     ]
    }
   ],
   "source": [
    "# Calculate accuracy\n",
    "accuracy = (y_pred == y_test).mean()\n",
    "print(\"Accuracy:\", accuracy)"
   ]
  },
  {
   "cell_type": "code",
   "execution_count": 58,
   "id": "f9856596",
   "metadata": {},
   "outputs": [
    {
     "name": "stdout",
     "output_type": "stream",
     "text": [
      "Classification Report:\n",
      "              precision    recall  f1-score   support\n",
      "\n",
      "    negative       0.30      1.00      0.46      3253\n",
      "    positive       0.00      0.00      0.00      7501\n",
      "\n",
      "    accuracy                           0.30     10754\n",
      "   macro avg       0.15      0.50      0.23     10754\n",
      "weighted avg       0.09      0.30      0.14     10754\n",
      "\n"
     ]
    },
    {
     "name": "stderr",
     "output_type": "stream",
     "text": [
      "C:\\Users\\SHANMUGAPRIYAA\\anaconda3\\lib\\site-packages\\sklearn\\metrics\\_classification.py:1318: UndefinedMetricWarning: Precision and F-score are ill-defined and being set to 0.0 in labels with no predicted samples. Use `zero_division` parameter to control this behavior.\n",
      "  _warn_prf(average, modifier, msg_start, len(result))\n",
      "C:\\Users\\SHANMUGAPRIYAA\\anaconda3\\lib\\site-packages\\sklearn\\metrics\\_classification.py:1318: UndefinedMetricWarning: Precision and F-score are ill-defined and being set to 0.0 in labels with no predicted samples. Use `zero_division` parameter to control this behavior.\n",
      "  _warn_prf(average, modifier, msg_start, len(result))\n",
      "C:\\Users\\SHANMUGAPRIYAA\\anaconda3\\lib\\site-packages\\sklearn\\metrics\\_classification.py:1318: UndefinedMetricWarning: Precision and F-score are ill-defined and being set to 0.0 in labels with no predicted samples. Use `zero_division` parameter to control this behavior.\n",
      "  _warn_prf(average, modifier, msg_start, len(result))\n"
     ]
    }
   ],
   "source": [
    "from sklearn.metrics import classification_report\n",
    "# Print the classification report\n",
    "classification_report = classification_report(y_test, y_pred)\n",
    "print(\"Classification Report:\")\n",
    "print(classification_report)"
   ]
  },
  {
   "cell_type": "code",
   "execution_count": 59,
   "id": "055fcbec",
   "metadata": {},
   "outputs": [
    {
     "data": {
      "image/png": "[encoded data removed]",
      "text/plain": [
       "<Figure size 500x300 with 2 Axes>"
      ]
     },
     "metadata": {},
     "output_type": "display_data"
    }
   ],
   "source": [
    "from sklearn.metrics import confusion_matrix\n",
    "cm = confusion_matrix(y_test, y_pred)\n",
    "labels = np.unique(y_test)\n",
    "plt.figure(figsize=(5, 3))\n",
    "sns.heatmap(cm, annot=True, fmt='d', xticklabels=labels, yticklabels=labels)\n",
    "plt.title('Confusion Matrix')\n",
    "plt.xlabel('Predicted Label')\n",
    "plt.ylabel('True Label')\n",
    "plt.show()"
   ]
  },
  {
   "cell_type": "markdown",
   "id": "04e21e35",
   "metadata": {},
   "source": [
    "# Multinomial naive bayes classifier¶"
   ]
  },
  {
   "cell_type": "code",
   "execution_count": 18,
   "id": "de673fb4",
   "metadata": {},
   "outputs": [],
   "source": [
    "import pandas as pd\n",
    "import numpy as np\n",
    "\n",
    "class MultinomialNaiveBayes:\n",
    "    def __init__(self):\n",
    "        self.classes = None\n",
    "        self.class_counts = {}\n",
    "        self.feature_counts = {}\n",
    "        self.feature_probabilities = {}\n",
    "        self.class_priors = {}\n",
    "    def fit(self, X, y):\n",
    "        self.classes = np.unique(y)\n",
    "        self.class_counts = {}\n",
    "        self.feature_counts = {}\n",
    "        self.feature_probabilities = {}\n",
    "        self.class_priors = {}\n",
    "        # Count the occurrences of each class and each feature\n",
    "        for c in self.classes:\n",
    "            self.class_counts[c] = 0\n",
    "            self.feature_counts[c] = np.zeros(X.shape[1])\n",
    "        # Update the class counts and feature counts\n",
    "        for x, c in zip(X, y):\n",
    "            self.class_counts[c] += 1\n",
    "            self.feature_counts[c] += x\n",
    "        # Calculate class priors\n",
    "        num_samples = len(y)\n",
    "        for c in self.classes:\n",
    "            self.class_priors[c] = self.class_counts[c] / num_samples\n",
    "        # Calculate feature probabilities\n",
    "        for c in self.classes:\n",
    "            total_count = np.sum(self.feature_counts[c])\n",
    "            self.feature_probabilities[c] = (self.feature_counts[c] + 1) / (total_count + X.shape[1])\n",
    "    def _calculate_likelihood(self, x, class_label):\n",
    "        likelihood = np.sum(x * np.log(self.feature_probabilities[class_label]))\n",
    "        return likelihood\n",
    "    def predict(self, X):\n",
    "        y_pred = []\n",
    "        for x in X:\n",
    "            class_scores = []\n",
    "            for c in self.classes:\n",
    "                class_prior = self.class_priors[c]\n",
    "                likelihood = self._calculate_likelihood(x, c)\n",
    "                class_score = np.log(class_prior) + likelihood\n",
    "                class_scores.append(class_score)\n",
    "            predicted_class = self.classes[np.argmax(class_scores)]\n",
    "            y_pred.append(predicted_class)\n",
    "        return y_pred"
   ]
  },
  {
   "cell_type": "code",
   "execution_count": 19,
   "id": "c9a59a2f",
   "metadata": {},
   "outputs": [],
   "source": [
    "# Preprocess the data\n",
    "df['sentiment'] = df['rating'].apply(lambda x: 'positive' if x >= 6 else 'negative')"
   ]
  },
  {
   "cell_type": "code",
   "execution_count": 20,
   "id": "2e2d932e",
   "metadata": {},
   "outputs": [],
   "source": [
    "# Convert text reviews to numerical features\n",
    "vectorizer = CountVectorizer()\n",
    "X_counts = vectorizer.fit_transform(X)"
   ]
  },
  {
   "cell_type": "code",
   "execution_count": 21,
   "id": "bf27213d",
   "metadata": {},
   "outputs": [],
   "source": [
    "# Initialize and fit the Multinomial Naive Bayes classifier\n",
    "nb_classifier = MultinomialNaiveBayes()\n",
    "nb_classifier.fit(X_train, y_train)"
   ]
  },
  {
   "cell_type": "code",
   "execution_count": 22,
   "id": "e2ac6f2e",
   "metadata": {},
   "outputs": [],
   "source": [
    "# Predict the sentiments of test reviews\n",
    "y_pred = nb_classifier.predict(X_test)"
   ]
  },
  {
   "cell_type": "code",
   "execution_count": 23,
   "id": "03a92f02",
   "metadata": {},
   "outputs": [
    {
     "name": "stdout",
     "output_type": "stream",
     "text": [
      "Accuracy: 0.8022131299981402\n"
     ]
    }
   ],
   "source": [
    "# Calculate accuracy\n",
    "accuracy = np.mean(y_pred == y_test)\n",
    "print(\"Accuracy:\", accuracy)"
   ]
  },
  {
   "cell_type": "code",
   "execution_count": 24,
   "id": "0877b67b",
   "metadata": {},
   "outputs": [
    {
     "name": "stdout",
     "output_type": "stream",
     "text": [
      "Classification Report:\n",
      "              precision    recall  f1-score   support\n",
      "\n",
      "    negative       0.68      0.66      0.67      3253\n",
      "    positive       0.86      0.86      0.86      7501\n",
      "\n",
      "    accuracy                           0.80     10754\n",
      "   macro avg       0.77      0.76      0.76     10754\n",
      "weighted avg       0.80      0.80      0.80     10754\n",
      "\n"
     ]
    }
   ],
   "source": [
    "from sklearn.metrics import classification_report\n",
    "# Print the classification report\n",
    "classification_report = classification_report(y_test, y_pred)\n",
    "print(\"Classification Report:\")\n",
    "print(classification_report)"
   ]
  },
  {
   "cell_type": "code",
   "execution_count": 25,
   "id": "015a1c9c",
   "metadata": {},
   "outputs": [
    {
     "data": {
      "image/png": "[encoded data removed]",
      "text/plain": [
       "<Figure size 500x300 with 2 Axes>"
      ]
     },
     "metadata": {},
     "output_type": "display_data"
    }
   ],
   "source": [
    "from sklearn.metrics import confusion_matrix\n",
    "import seaborn as sns\n",
    "import matplotlib.pyplot as plt\n",
    "cm = confusion_matrix(y_test, y_pred)\n",
    "labels = np.unique(y_test)\n",
    "plt.figure(figsize=(5, 3))\n",
    "sns.heatmap(cm, annot=True, fmt='d', xticklabels=labels, yticklabels=labels)\n",
    "plt.title('Confusion Matrix')\n",
    "plt.xlabel('Predicted Label')\n",
    "plt.ylabel('True Label')\n",
    "plt.show()"
   ]
  },
  {
   "cell_type": "code",
   "execution_count": 26,
   "id": "cca6060b",
   "metadata": {},
   "outputs": [],
   "source": [
    "def map_condition_drug(df):\n",
    "    condition_drug_map = {}\n",
    "    for index, row in df.iterrows():\n",
    "        condition = row['condition']\n",
    "        drug_name = row['drugName']\n",
    "        if condition not in condition_drug_map:\n",
    "            condition_drug_map[condition] = set()\n",
    "        condition_drug_map[condition].add(drug_name)\n",
    "    return condition_drug_map"
   ]
  },
  {
   "cell_type": "code",
   "execution_count": 27,
   "id": "ccdf8e1c",
   "metadata": {},
   "outputs": [
    {
     "name": "stdout",
     "output_type": "stream",
     "text": [
      "Enter a condition: Pain\n",
      "Condition: Pain\n",
      "Drug Names: Acetaminophen / aspirin / caffeine / salicylamide, Toradol IV / IM, Talwin Nx, Hydromorphone, Acetaminophen / hydrocodone, Anacin, Pamelor, Atarax, Choline salicylate / magnesium salicylate, Hysingla ER, Stadol, Nubain, Celebrex, Opana ER, Orudis KT, Morphine, Children's Motrin, Ketorolac, Etodolac, Cataflam, Hydrocodone / ibuprofen, Percocet, Vicodin, Nucynta ER, Dilaudid, Levo-Dromoran, Percodan, Methadose, Pramoxine, Celecoxib, Oxycodone, Motrin, Dolophine, Fentanyl, Acetaminophen / oxycodone, Capzasin, Motrin IB, Tramadol, Cymbalta, Oxydose, Aspirin / caffeine, Acetaminophen / phenyltoloxamine, Lidocaine Viscous, Butrans, Exparel, Diphenhydramine / naproxen, Buprenorphine, Acetaminophen / caffeine / dihydrocodeine, Vicoprofen, Neurontin, Capsaicin, Myophen, Fiorinal, Levorphanol, Ultracet, Fentora, Trezix, Acetaminophen / tramadol, Zorvolex, Indomethacin, Propoxyphene, Morphine / naltrexone, Acetaminophen / diphenhydramine, Tylenol PM, Nalbuphine, Hydrocodone, Tylenol with Codeine #4, Motrin Infant Drops, Amitriptyline, Darvon, Advil, Naprelan, Vicodin ES, Sublimaze, Lyrica, Elavil, Imipramine, Roxicodone, Camphor / menthol, Tylenol with Codeine #3, Flurbiprofen, Pentazocine, Codeine, Duragesic, Lidoderm, Flector Patch, Voltaren Gel, Sprix, Reprexain, Lidocaine, Naproxen, Trilisate, Panlor SS, Oramorph SR, Actiq, Meperidine, Bextra, Aleve, Nucynta, Ketamine, Methadone Diskets, Methadone, Fentanyl Transdermal System, Indocin SR, Naprosyn, Sulindac, Ultram, Buprenex, Tylox, OxyContin, Indocin, Hydroxyzine, Aspirin / oxycodone, ConZip, MS Contin, Vicodin HP, Tapentadol, Acetaminophen, Ketoprofen, Magnacet, Norco, Acetaminophen / aspirin, Tylenol, Zohydro ER, Pregabalin, Voltaren, Oxymorphone, Vistaril, Diclofenac, Exalgo, Feldene, Acetaminophen / codeine, Nortriptyline, Embeda, Belbuca, Ponstel, Lortab, Orudis, Naloxone / pentazocine, Opana, Xylocaine Jelly, Gabapentin, Duloxetine, Bupivacaine liposome, Butorphanol, Demerol, Panlor DC, Levacet, Toradol, Ultram ER, Avinza, Kadian, Acetaminophen / propoxyphene, Ryzolt, Magnesium salicylate, Ibuprofen, Dilaudid-HP, Balacet, Zipsor, Endocet, Roxicet, Advil Liqui-Gels, Tylenol 8 Hour\n"
     ]
    }
   ],
   "source": [
    "condition_drug_mapping = map_condition_drug(df)\n",
    "# Prompt the user to enter a condition\n",
    "condition_input = input(\"Enter a condition: \")\n",
    "# Get the corresponding drug names for the input condition\n",
    "if condition_input in condition_drug_mapping:\n",
    "    drug_names = condition_drug_mapping[condition_input]\n",
    "    print(f\"Condition: {condition_input}\")\n",
    "    print(f\"Drug Names: {', '.join(drug_names)}\")\n",
    "else:\n",
    "    print(\"No drug names found for the input condition.\")"
   ]
  }
 ],
 "metadata": {
  "kernelspec": {
   "display_name": "Python 3 (ipykernel)",
   "language": "python",
   "name": "python3"
  },
  "language_info": {
   "codemirror_mode": {
    "name": "ipython",
    "version": 3
   },
   "file_extension": ".py",
   "mimetype": "text/x-python",
   "name": "python",
   "nbconvert_exporter": "python",
   "pygments_lexer": "ipython3",
   "version": "3.9.13"
  }
 },
 "nbformat": 4,
 "nbformat_minor": 5
}
